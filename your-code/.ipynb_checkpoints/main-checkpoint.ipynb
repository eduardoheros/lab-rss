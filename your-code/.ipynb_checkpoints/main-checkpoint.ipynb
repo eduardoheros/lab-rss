{
 "cells": [
  {
   "cell_type": "markdown",
   "metadata": {},
   "source": [
    "# Working with RSS Feeds Lab\n",
    "\n",
    "Complete the following set of exercises to solidify your knowledge of parsing RSS feeds and extracting information from them."
   ]
  },
  {
   "cell_type": "code",
   "execution_count": 1,
   "metadata": {},
   "outputs": [],
   "source": [
    "import feedparser"
   ]
  },
  {
   "cell_type": "raw",
   "metadata": {},
   "source": [
    "### 1. Use feedparser to parse the following RSS feed URL."
   ]
  },
  {
   "cell_type": "code",
   "execution_count": 4,
   "metadata": {},
   "outputs": [],
   "source": [
    "url = 'http://feeds.feedburner.com/oreilly/radar/atom'"
   ]
  },
  {
   "cell_type": "code",
   "execution_count": 5,
   "metadata": {},
   "outputs": [],
   "source": [
    "feedburner=feedparser.parse(url)"
   ]
  },
  {
   "cell_type": "markdown",
   "metadata": {},
   "source": [
    "### 2. Obtain a list of components (keys) that are available for this feed."
   ]
  },
  {
   "cell_type": "code",
   "execution_count": 7,
   "metadata": {},
   "outputs": [
    {
     "data": {
      "text/plain": [
       "dict_keys(['feed', 'entries', 'bozo', 'headers', 'etag', 'updated', 'updated_parsed', 'href', 'status', 'encoding', 'version', 'namespaces'])"
      ]
     },
     "execution_count": 7,
     "metadata": {},
     "output_type": "execute_result"
    }
   ],
   "source": [
    "feedburner.keys()"
   ]
  },
  {
   "cell_type": "markdown",
   "metadata": {},
   "source": [
    "### 3. Obtain a list of components (keys) that are available for the *feed* component of this RSS feed."
   ]
  },
  {
   "cell_type": "code",
   "execution_count": 21,
   "metadata": {},
   "outputs": [
    {
     "data": {
      "text/plain": [
       "{'title': 'Four short links: 15 May 2020',\n",
       " 'title_detail': {'type': 'text/plain',\n",
       "  'language': None,\n",
       "  'base': 'http://feeds.feedburner.com/oreilly/radar/atom',\n",
       "  'value': 'Four short links: 15 May 2020'},\n",
       " 'links': [{'rel': 'alternate',\n",
       "   'type': 'text/html',\n",
       "   'href': 'http://feedproxy.google.com/~r/oreilly/radar/atom/~3/22fFY7896NU/'}],\n",
       " 'link': 'http://feedproxy.google.com/~r/oreilly/radar/atom/~3/22fFY7896NU/',\n",
       " 'comments': 'https://www.oreilly.com/radar/four-short-links-15-may-2020/#respond',\n",
       " 'published': 'Fri, 15 May 2020 11:22:50 +0000',\n",
       " 'published_parsed': time.struct_time(tm_year=2020, tm_mon=5, tm_mday=15, tm_hour=11, tm_min=22, tm_sec=50, tm_wday=4, tm_yday=136, tm_isdst=0),\n",
       " 'authors': [{'name': 'Nat Torkington'}],\n",
       " 'author': 'Nat Torkington',\n",
       " 'author_detail': {'name': 'Nat Torkington'},\n",
       " 'tags': [{'term': 'Four Short Links', 'scheme': None, 'label': None},\n",
       "  {'term': 'Signals', 'scheme': None, 'label': None}],\n",
       " 'id': 'https://www.oreilly.com/radar/?p=12789',\n",
       " 'guidislink': False,\n",
       " 'summary': 'Favourite Developer-Efficiency Tips &#8212; Before putting a project or incomplete task away, make notes of what the next thing was that you were going to work on. This lets you bypass that 10 minute orientation getting back into the project the next time you pick it up. I&#8217;d not heard it called that before. All [&#8230;]',\n",
       " 'summary_detail': {'type': 'text/html',\n",
       "  'language': None,\n",
       "  'base': 'http://feeds.feedburner.com/oreilly/radar/atom',\n",
       "  'value': 'Favourite Developer-Efficiency Tips &#8212; Before putting a project or incomplete task away, make notes of what the next thing was that you were going to work on. This lets you bypass that 10 minute orientation getting back into the project the next time you pick it up. I&#8217;d not heard it called that before. All [&#8230;]'},\n",
       " 'content': [{'type': 'text/html',\n",
       "   'language': None,\n",
       "   'base': 'http://feeds.feedburner.com/oreilly/radar/atom',\n",
       "   'value': '<ol>\\n<li><a href=\"https://news.ycombinator.com/item?id=23118940\">Favourite Developer-Efficiency Tips</a> &#8212; <i>Before putting a project or incomplete task away, make notes of what the next thing was that you were going to work on. This lets you bypass that 10 minute orientation getting back into the project the next time you pick it up.</i> I&#8217;d not heard it called that before. All the suggestions are very good.</li>\\n<li><a href=\"https://github.com/sonictruth/vr-dos\">VR-DOS</a> &#8212; <i>an experimental &#8220;PC running DOS&#8221; emulator inside a VR environment.</i></li>\\n<li><a href=\"https://moxon6.github.io/cobol-js-emscripten/\">Web Assembly COBOL Pong</a> &#8212; The silliest flex of the week: <i>Pong written in COBOL, compiled to WebAssembly.</i></li>\\n<li><a href=\"https://medium.com/@arush/scaling-an-engineering-team-from-zero-to-infinity-a07b6b67595\">Scaling an Engineering Team from 0 to Infinity</a> &#8212; Really good breakdown of the different ways engineering team needs and structure change as the company grows.</li>\\n</ol>\\n<img src=\"http://feeds.feedburner.com/~r/oreilly/radar/atom/~4/22fFY7896NU\" height=\"1\" width=\"1\" alt=\"\"/>'}],\n",
       " 'wfw_commentrss': 'https://www.oreilly.com/radar/four-short-links-15-may-2020/feed/',\n",
       " 'slash_comments': '0',\n",
       " 'feedburner_origlink': 'https://www.oreilly.com/radar/four-short-links-15-may-2020/'}"
      ]
     },
     "execution_count": 21,
     "metadata": {},
     "output_type": "execute_result"
    }
   ],
   "source": [
    "feedburner.entries[0]"
   ]
  },
  {
   "cell_type": "markdown",
   "metadata": {},
   "source": [
    "### 4. Extract and print the feed title, subtitle, author, and link."
   ]
  },
  {
   "cell_type": "code",
   "execution_count": 34,
   "metadata": {},
   "outputs": [
    {
     "data": {
      "text/html": [
       "<div>\n",
       "<style scoped>\n",
       "    .dataframe tbody tr th:only-of-type {\n",
       "        vertical-align: middle;\n",
       "    }\n",
       "\n",
       "    .dataframe tbody tr th {\n",
       "        vertical-align: top;\n",
       "    }\n",
       "\n",
       "    .dataframe thead th {\n",
       "        text-align: right;\n",
       "    }\n",
       "</style>\n",
       "<table border=\"1\" class=\"dataframe\">\n",
       "  <thead>\n",
       "    <tr style=\"text-align: right;\">\n",
       "      <th></th>\n",
       "      <th>title</th>\n",
       "      <th>author</th>\n",
       "      <th>link</th>\n",
       "    </tr>\n",
       "  </thead>\n",
       "  <tbody>\n",
       "    <tr>\n",
       "      <th>0</th>\n",
       "      <td>Four short links: 15 May 2020</td>\n",
       "      <td>Nat Torkington</td>\n",
       "      <td>http://feedproxy.google.com/~r/oreilly/radar/a...</td>\n",
       "    </tr>\n",
       "    <tr>\n",
       "      <th>1</th>\n",
       "      <td>Practical Skills for The AI Product Manager</td>\n",
       "      <td>Justin Norman, Peter Skomoroch and Mike Loukides</td>\n",
       "      <td>http://feedproxy.google.com/~r/oreilly/radar/a...</td>\n",
       "    </tr>\n",
       "    <tr>\n",
       "      <th>2</th>\n",
       "      <td>Four short links: 14 May 2020</td>\n",
       "      <td>Nat Torkington</td>\n",
       "      <td>http://feedproxy.google.com/~r/oreilly/radar/a...</td>\n",
       "    </tr>\n",
       "    <tr>\n",
       "      <th>3</th>\n",
       "      <td>Four short links: 13 May 2020</td>\n",
       "      <td>Nat Torkington</td>\n",
       "      <td>http://feedproxy.google.com/~r/oreilly/radar/a...</td>\n",
       "    </tr>\n",
       "    <tr>\n",
       "      <th>4</th>\n",
       "      <td>Four short links: 12 May 2020</td>\n",
       "      <td>Nat Torkington</td>\n",
       "      <td>http://feedproxy.google.com/~r/oreilly/radar/a...</td>\n",
       "    </tr>\n",
       "    <tr>\n",
       "      <th>5</th>\n",
       "      <td>When models are everywhere</td>\n",
       "      <td>Hugo Bowne-Anderson and Mike Loukides</td>\n",
       "      <td>http://feedproxy.google.com/~r/oreilly/radar/a...</td>\n",
       "    </tr>\n",
       "    <tr>\n",
       "      <th>6</th>\n",
       "      <td>Four short links: 11 May 2020</td>\n",
       "      <td>Nat Torkington</td>\n",
       "      <td>http://feedproxy.google.com/~r/oreilly/radar/a...</td>\n",
       "    </tr>\n",
       "    <tr>\n",
       "      <th>7</th>\n",
       "      <td>Four short links: 8 May 2020</td>\n",
       "      <td>Nat Torkington</td>\n",
       "      <td>http://feedproxy.google.com/~r/oreilly/radar/a...</td>\n",
       "    </tr>\n",
       "    <tr>\n",
       "      <th>8</th>\n",
       "      <td>Radar trends to watch: May 2020</td>\n",
       "      <td>Mike Loukides</td>\n",
       "      <td>http://feedproxy.google.com/~r/oreilly/radar/a...</td>\n",
       "    </tr>\n",
       "    <tr>\n",
       "      <th>9</th>\n",
       "      <td>Four short links: 7 May 2020</td>\n",
       "      <td>Nat Torkington</td>\n",
       "      <td>http://feedproxy.google.com/~r/oreilly/radar/a...</td>\n",
       "    </tr>\n",
       "    <tr>\n",
       "      <th>10</th>\n",
       "      <td>Four short links: 6 May 2020</td>\n",
       "      <td>Nat Torkington</td>\n",
       "      <td>http://feedproxy.google.com/~r/oreilly/radar/a...</td>\n",
       "    </tr>\n",
       "    <tr>\n",
       "      <th>11</th>\n",
       "      <td>Four short links: 5 May 2020</td>\n",
       "      <td>Nat Torkington</td>\n",
       "      <td>http://feedproxy.google.com/~r/oreilly/radar/a...</td>\n",
       "    </tr>\n",
       "    <tr>\n",
       "      <th>12</th>\n",
       "      <td>On COBOL</td>\n",
       "      <td>Mike Loukides</td>\n",
       "      <td>http://feedproxy.google.com/~r/oreilly/radar/a...</td>\n",
       "    </tr>\n",
       "    <tr>\n",
       "      <th>13</th>\n",
       "      <td>Four short links: 4 May 2020</td>\n",
       "      <td>Nat Torkington</td>\n",
       "      <td>http://feedproxy.google.com/~r/oreilly/radar/a...</td>\n",
       "    </tr>\n",
       "    <tr>\n",
       "      <th>14</th>\n",
       "      <td>Four short links: 1 May 2020</td>\n",
       "      <td>Nat Torkington</td>\n",
       "      <td>http://feedproxy.google.com/~r/oreilly/radar/a...</td>\n",
       "    </tr>\n",
       "  </tbody>\n",
       "</table>\n",
       "</div>"
      ],
      "text/plain": [
       "                                          title  \\\n",
       "0                 Four short links: 15 May 2020   \n",
       "1   Practical Skills for The AI Product Manager   \n",
       "2                 Four short links: 14 May 2020   \n",
       "3                 Four short links: 13 May 2020   \n",
       "4                 Four short links: 12 May 2020   \n",
       "5                    When models are everywhere   \n",
       "6                 Four short links: 11 May 2020   \n",
       "7                  Four short links: 8 May 2020   \n",
       "8               Radar trends to watch: May 2020   \n",
       "9                  Four short links: 7 May 2020   \n",
       "10                 Four short links: 6 May 2020   \n",
       "11                 Four short links: 5 May 2020   \n",
       "12                                     On COBOL   \n",
       "13                 Four short links: 4 May 2020   \n",
       "14                 Four short links: 1 May 2020   \n",
       "\n",
       "                                              author  \\\n",
       "0                                     Nat Torkington   \n",
       "1   Justin Norman, Peter Skomoroch and Mike Loukides   \n",
       "2                                     Nat Torkington   \n",
       "3                                     Nat Torkington   \n",
       "4                                     Nat Torkington   \n",
       "5              Hugo Bowne-Anderson and Mike Loukides   \n",
       "6                                     Nat Torkington   \n",
       "7                                     Nat Torkington   \n",
       "8                                      Mike Loukides   \n",
       "9                                     Nat Torkington   \n",
       "10                                    Nat Torkington   \n",
       "11                                    Nat Torkington   \n",
       "12                                     Mike Loukides   \n",
       "13                                    Nat Torkington   \n",
       "14                                    Nat Torkington   \n",
       "\n",
       "                                                 link  \n",
       "0   http://feedproxy.google.com/~r/oreilly/radar/a...  \n",
       "1   http://feedproxy.google.com/~r/oreilly/radar/a...  \n",
       "2   http://feedproxy.google.com/~r/oreilly/radar/a...  \n",
       "3   http://feedproxy.google.com/~r/oreilly/radar/a...  \n",
       "4   http://feedproxy.google.com/~r/oreilly/radar/a...  \n",
       "5   http://feedproxy.google.com/~r/oreilly/radar/a...  \n",
       "6   http://feedproxy.google.com/~r/oreilly/radar/a...  \n",
       "7   http://feedproxy.google.com/~r/oreilly/radar/a...  \n",
       "8   http://feedproxy.google.com/~r/oreilly/radar/a...  \n",
       "9   http://feedproxy.google.com/~r/oreilly/radar/a...  \n",
       "10  http://feedproxy.google.com/~r/oreilly/radar/a...  \n",
       "11  http://feedproxy.google.com/~r/oreilly/radar/a...  \n",
       "12  http://feedproxy.google.com/~r/oreilly/radar/a...  \n",
       "13  http://feedproxy.google.com/~r/oreilly/radar/a...  \n",
       "14  http://feedproxy.google.com/~r/oreilly/radar/a...  "
      ]
     },
     "execution_count": 34,
     "metadata": {},
     "output_type": "execute_result"
    }
   ],
   "source": [
    "import pandas as pd\n",
    "df_feed=pd.DataFrame(feedburner.entries)\n",
    "df_feed[[\"title\",\"author\",\"link\"]].head(15)"
   ]
  },
  {
   "cell_type": "raw",
   "metadata": {},
   "source": [
    "### 5. Count the number of entries that are contained in this RSS feed."
   ]
  },
  {
   "cell_type": "code",
   "execution_count": 38,
   "metadata": {},
   "outputs": [
    {
     "data": {
      "text/plain": [
       "60"
      ]
     },
     "execution_count": 38,
     "metadata": {},
     "output_type": "execute_result"
    }
   ],
   "source": [
    "len(feedburner.entries)"
   ]
  },
  {
   "cell_type": "markdown",
   "metadata": {},
   "source": [
    "### 6. Obtain a list of components (keys) available for an entry.\n",
    "\n",
    "*Hint: Remember to index first before requesting the keys*"
   ]
  },
  {
   "cell_type": "code",
   "execution_count": 42,
   "metadata": {},
   "outputs": [
    {
     "data": {
      "text/plain": [
       "dict_keys(['title', 'title_detail', 'links', 'link', 'comments', 'published', 'published_parsed', 'authors', 'author', 'author_detail', 'tags', 'id', 'guidislink', 'summary', 'summary_detail', 'content', 'wfw_commentrss', 'slash_comments', 'feedburner_origlink'])"
      ]
     },
     "execution_count": 42,
     "metadata": {},
     "output_type": "execute_result"
    }
   ],
   "source": [
    "feedburner.entries[0].keys()"
   ]
  },
  {
   "cell_type": "markdown",
   "metadata": {},
   "source": [
    "### 7. Extract a list of entry titles."
   ]
  },
  {
   "cell_type": "code",
   "execution_count": 44,
   "metadata": {},
   "outputs": [
    {
     "name": "stdout",
     "output_type": "stream",
     "text": [
      "['Four short links: 15 May 2020', 'Practical Skills for The AI Product Manager', 'Four short links: 14 May 2020', 'Four short links: 13 May 2020', 'Four short links: 12 May 2020', 'When models are everywhere', 'Four short links: 11 May 2020', 'Four short links: 8 May 2020', 'Radar trends to watch: May 2020', 'Four short links: 7 May 2020', 'Four short links: 6 May 2020', 'Four short links: 5 May 2020', 'On COBOL', 'Four short links: 4 May 2020', 'Four short links: 1 May 2020', 'Four short links: 30 April 2020', 'Four short links: 29 April 2020', 'Four short links: 28 April 2020', 'Four short links: 27 April 2020', 'Four short links: 24 April 2020', 'Four short links: 23 April 2020', 'How data privacy leader Apple found itself in a data ethics catastrophe', 'Four short links: 22 April 2020', 'Four short links: 21 April 2020', 'Four short links: 20 April 2020', 'Four short links: 17 April 2020', 'Four short links: 16 April 2020', 'Four short links: 15 April 2020', 'Four short links: 14 April 2020', 'Radar trends to watch: April 2020', 'Four short links: 13 April 2020', 'Four short links: 10 April 2020', 'Four short links: 9 April 2020', 'Four short links: 8 April 2020', 'Four short links: 7 April 2020', 'Governance and Discovery', 'Four short links: 6 April 2020', 'Four short links: 3 April 2020', 'Four short links: 2 April 2020', 'Four short links: 1 April 2020', 'Four short links: 31 March 2020', 'What you need to know about product management for AI', 'The unreasonable importance of data preparation', 'Four short links: 24 March 2020', '3 ways to confront modern business challenges', 'An enterprise vision is your company’s North Star', 'Leaders need to mobilize change-ready workforces', 'Great leaders inspire innovation and creativity from within their workforces', 'Strong leaders forge an intersection of knowledge and experience', 'Four short links: 23 March 2020', 'Four short links: 20 March 2020', '6 trends framing the state of AI and ML', 'Four short links: 19 March 2020', 'AI adoption in the enterprise 2020', 'It’s an unprecedented crisis: 8 things to do right now', 'Four short links: 18 March 2020', 'Four short links: 17 March 2020', 'Four short links: 16 March 2020', 'Four short links: 13 March 2020', 'Four short links: 12 March 2020']\n"
     ]
    }
   ],
   "source": [
    "titles=[feedburner.entries[i].title for i in range(len(feedburner.entries))]\n",
    "print(titles)"
   ]
  },
  {
   "cell_type": "markdown",
   "metadata": {},
   "source": [
    "### 8. Calculate the percentage of \"Four short links\" entry titles."
   ]
  },
  {
   "cell_type": "code",
   "execution_count": 123,
   "metadata": {},
   "outputs": [
    {
     "name": "stdout",
     "output_type": "stream",
     "text": [
      "Four links, aparece  71.67 %\n"
     ]
    }
   ],
   "source": [
    "x=df_feed[\"title\"].apply(lambda x: x.startswith('Four'))\n",
    "print(\"Four links, aparece \",\"%.2f\" % (x.sum()*100/len(x)),\"%\")"
   ]
  },
  {
   "cell_type": "markdown",
   "metadata": {},
   "source": [
    "### 9. Create a Pandas data frame from the feed's entries."
   ]
  },
  {
   "cell_type": "code",
   "execution_count": 91,
   "metadata": {},
   "outputs": [
    {
     "data": {
      "text/html": [
       "<div>\n",
       "<style scoped>\n",
       "    .dataframe tbody tr th:only-of-type {\n",
       "        vertical-align: middle;\n",
       "    }\n",
       "\n",
       "    .dataframe tbody tr th {\n",
       "        vertical-align: top;\n",
       "    }\n",
       "\n",
       "    .dataframe thead th {\n",
       "        text-align: right;\n",
       "    }\n",
       "</style>\n",
       "<table border=\"1\" class=\"dataframe\">\n",
       "  <thead>\n",
       "    <tr style=\"text-align: right;\">\n",
       "      <th></th>\n",
       "      <th>title</th>\n",
       "      <th>title_detail</th>\n",
       "      <th>links</th>\n",
       "      <th>link</th>\n",
       "      <th>comments</th>\n",
       "      <th>published</th>\n",
       "      <th>published_parsed</th>\n",
       "      <th>authors</th>\n",
       "      <th>author</th>\n",
       "      <th>author_detail</th>\n",
       "      <th>tags</th>\n",
       "      <th>id</th>\n",
       "      <th>guidislink</th>\n",
       "      <th>summary</th>\n",
       "      <th>summary_detail</th>\n",
       "      <th>content</th>\n",
       "      <th>wfw_commentrss</th>\n",
       "      <th>slash_comments</th>\n",
       "      <th>feedburner_origlink</th>\n",
       "    </tr>\n",
       "  </thead>\n",
       "  <tbody>\n",
       "    <tr>\n",
       "      <th>0</th>\n",
       "      <td>Four short links: 15 May 2020</td>\n",
       "      <td>{'type': 'text/plain', 'language': None, 'base...</td>\n",
       "      <td>[{'rel': 'alternate', 'type': 'text/html', 'hr...</td>\n",
       "      <td>http://feedproxy.google.com/~r/oreilly/radar/a...</td>\n",
       "      <td>https://www.oreilly.com/radar/four-short-links...</td>\n",
       "      <td>Fri, 15 May 2020 11:22:50 +0000</td>\n",
       "      <td>(2020, 5, 15, 11, 22, 50, 4, 136, 0)</td>\n",
       "      <td>[{'name': 'Nat Torkington'}]</td>\n",
       "      <td>Nat Torkington</td>\n",
       "      <td>{'name': 'Nat Torkington'}</td>\n",
       "      <td>[{'term': 'Four Short Links', 'scheme': None, ...</td>\n",
       "      <td>https://www.oreilly.com/radar/?p=12789</td>\n",
       "      <td>False</td>\n",
       "      <td>Favourite Developer-Efficiency Tips &amp;#8212; Be...</td>\n",
       "      <td>{'type': 'text/html', 'language': None, 'base'...</td>\n",
       "      <td>[{'type': 'text/html', 'language': None, 'base...</td>\n",
       "      <td>https://www.oreilly.com/radar/four-short-links...</td>\n",
       "      <td>0</td>\n",
       "      <td>https://www.oreilly.com/radar/four-short-links...</td>\n",
       "    </tr>\n",
       "    <tr>\n",
       "      <th>1</th>\n",
       "      <td>Practical Skills for The AI Product Manager</td>\n",
       "      <td>{'type': 'text/plain', 'language': None, 'base...</td>\n",
       "      <td>[{'rel': 'alternate', 'type': 'text/html', 'hr...</td>\n",
       "      <td>http://feedproxy.google.com/~r/oreilly/radar/a...</td>\n",
       "      <td>https://www.oreilly.com/radar/practical-skills...</td>\n",
       "      <td>Thu, 14 May 2020 12:40:45 +0000</td>\n",
       "      <td>(2020, 5, 14, 12, 40, 45, 3, 135, 0)</td>\n",
       "      <td>[{'name': 'Justin Norman, Peter Skomoroch and ...</td>\n",
       "      <td>Justin Norman, Peter Skomoroch and Mike Loukides</td>\n",
       "      <td>{'name': 'Justin Norman, Peter Skomoroch and M...</td>\n",
       "      <td>[{'term': 'AI &amp; ML', 'scheme': None, 'label': ...</td>\n",
       "      <td>https://www.oreilly.com/radar/?p=12786</td>\n",
       "      <td>False</td>\n",
       "      <td>In our previous article, What You Need to Know...</td>\n",
       "      <td>{'type': 'text/html', 'language': None, 'base'...</td>\n",
       "      <td>[{'type': 'text/html', 'language': None, 'base...</td>\n",
       "      <td>https://www.oreilly.com/radar/practical-skills...</td>\n",
       "      <td>0</td>\n",
       "      <td>https://www.oreilly.com/radar/practical-skills...</td>\n",
       "    </tr>\n",
       "    <tr>\n",
       "      <th>2</th>\n",
       "      <td>Four short links: 14 May 2020</td>\n",
       "      <td>{'type': 'text/plain', 'language': None, 'base...</td>\n",
       "      <td>[{'rel': 'alternate', 'type': 'text/html', 'hr...</td>\n",
       "      <td>http://feedproxy.google.com/~r/oreilly/radar/a...</td>\n",
       "      <td>https://www.oreilly.com/radar/four-short-links...</td>\n",
       "      <td>Thu, 14 May 2020 11:28:00 +0000</td>\n",
       "      <td>(2020, 5, 14, 11, 28, 0, 3, 135, 0)</td>\n",
       "      <td>[{'name': 'Nat Torkington'}]</td>\n",
       "      <td>Nat Torkington</td>\n",
       "      <td>{'name': 'Nat Torkington'}</td>\n",
       "      <td>[{'term': 'Four Short Links', 'scheme': None, ...</td>\n",
       "      <td>https://www.oreilly.com/radar/?p=12783</td>\n",
       "      <td>False</td>\n",
       "      <td>Malware Toolkit Targetting Airgapped Networks ...</td>\n",
       "      <td>{'type': 'text/html', 'language': None, 'base'...</td>\n",
       "      <td>[{'type': 'text/html', 'language': None, 'base...</td>\n",
       "      <td>https://www.oreilly.com/radar/four-short-links...</td>\n",
       "      <td>0</td>\n",
       "      <td>https://www.oreilly.com/radar/four-short-links...</td>\n",
       "    </tr>\n",
       "    <tr>\n",
       "      <th>3</th>\n",
       "      <td>Four short links: 13 May 2020</td>\n",
       "      <td>{'type': 'text/plain', 'language': None, 'base...</td>\n",
       "      <td>[{'rel': 'alternate', 'type': 'text/html', 'hr...</td>\n",
       "      <td>http://feedproxy.google.com/~r/oreilly/radar/a...</td>\n",
       "      <td>https://www.oreilly.com/radar/four-short-links...</td>\n",
       "      <td>Wed, 13 May 2020 10:41:37 +0000</td>\n",
       "      <td>(2020, 5, 13, 10, 41, 37, 2, 134, 0)</td>\n",
       "      <td>[{'name': 'Nat Torkington'}]</td>\n",
       "      <td>Nat Torkington</td>\n",
       "      <td>{'name': 'Nat Torkington'}</td>\n",
       "      <td>[{'term': 'Four Short Links', 'scheme': None, ...</td>\n",
       "      <td>https://www.oreilly.com/radar/?p=12779</td>\n",
       "      <td>False</td>\n",
       "      <td>The Confessions of Marcus Hutchins, the Hacker...</td>\n",
       "      <td>{'type': 'text/html', 'language': None, 'base'...</td>\n",
       "      <td>[{'type': 'text/html', 'language': None, 'base...</td>\n",
       "      <td>https://www.oreilly.com/radar/four-short-links...</td>\n",
       "      <td>0</td>\n",
       "      <td>https://www.oreilly.com/radar/four-short-links...</td>\n",
       "    </tr>\n",
       "    <tr>\n",
       "      <th>4</th>\n",
       "      <td>Four short links: 12 May 2020</td>\n",
       "      <td>{'type': 'text/plain', 'language': None, 'base...</td>\n",
       "      <td>[{'rel': 'alternate', 'type': 'text/html', 'hr...</td>\n",
       "      <td>http://feedproxy.google.com/~r/oreilly/radar/a...</td>\n",
       "      <td>https://www.oreilly.com/radar/four-short-links...</td>\n",
       "      <td>Tue, 12 May 2020 11:22:23 +0000</td>\n",
       "      <td>(2020, 5, 12, 11, 22, 23, 1, 133, 0)</td>\n",
       "      <td>[{'name': 'Nat Torkington'}]</td>\n",
       "      <td>Nat Torkington</td>\n",
       "      <td>{'name': 'Nat Torkington'}</td>\n",
       "      <td>[{'term': 'Four Short Links', 'scheme': None, ...</td>\n",
       "      <td>https://www.oreilly.com/radar/?p=12776</td>\n",
       "      <td>False</td>\n",
       "      <td>flecs &amp;#8212; a Fast and Lightweight ECS (Enti...</td>\n",
       "      <td>{'type': 'text/html', 'language': None, 'base'...</td>\n",
       "      <td>[{'type': 'text/html', 'language': None, 'base...</td>\n",
       "      <td>https://www.oreilly.com/radar/four-short-links...</td>\n",
       "      <td>0</td>\n",
       "      <td>https://www.oreilly.com/radar/four-short-links...</td>\n",
       "    </tr>\n",
       "  </tbody>\n",
       "</table>\n",
       "</div>"
      ],
      "text/plain": [
       "                                         title  \\\n",
       "0                Four short links: 15 May 2020   \n",
       "1  Practical Skills for The AI Product Manager   \n",
       "2                Four short links: 14 May 2020   \n",
       "3                Four short links: 13 May 2020   \n",
       "4                Four short links: 12 May 2020   \n",
       "\n",
       "                                        title_detail  \\\n",
       "0  {'type': 'text/plain', 'language': None, 'base...   \n",
       "1  {'type': 'text/plain', 'language': None, 'base...   \n",
       "2  {'type': 'text/plain', 'language': None, 'base...   \n",
       "3  {'type': 'text/plain', 'language': None, 'base...   \n",
       "4  {'type': 'text/plain', 'language': None, 'base...   \n",
       "\n",
       "                                               links  \\\n",
       "0  [{'rel': 'alternate', 'type': 'text/html', 'hr...   \n",
       "1  [{'rel': 'alternate', 'type': 'text/html', 'hr...   \n",
       "2  [{'rel': 'alternate', 'type': 'text/html', 'hr...   \n",
       "3  [{'rel': 'alternate', 'type': 'text/html', 'hr...   \n",
       "4  [{'rel': 'alternate', 'type': 'text/html', 'hr...   \n",
       "\n",
       "                                                link  \\\n",
       "0  http://feedproxy.google.com/~r/oreilly/radar/a...   \n",
       "1  http://feedproxy.google.com/~r/oreilly/radar/a...   \n",
       "2  http://feedproxy.google.com/~r/oreilly/radar/a...   \n",
       "3  http://feedproxy.google.com/~r/oreilly/radar/a...   \n",
       "4  http://feedproxy.google.com/~r/oreilly/radar/a...   \n",
       "\n",
       "                                            comments  \\\n",
       "0  https://www.oreilly.com/radar/four-short-links...   \n",
       "1  https://www.oreilly.com/radar/practical-skills...   \n",
       "2  https://www.oreilly.com/radar/four-short-links...   \n",
       "3  https://www.oreilly.com/radar/four-short-links...   \n",
       "4  https://www.oreilly.com/radar/four-short-links...   \n",
       "\n",
       "                         published                      published_parsed  \\\n",
       "0  Fri, 15 May 2020 11:22:50 +0000  (2020, 5, 15, 11, 22, 50, 4, 136, 0)   \n",
       "1  Thu, 14 May 2020 12:40:45 +0000  (2020, 5, 14, 12, 40, 45, 3, 135, 0)   \n",
       "2  Thu, 14 May 2020 11:28:00 +0000   (2020, 5, 14, 11, 28, 0, 3, 135, 0)   \n",
       "3  Wed, 13 May 2020 10:41:37 +0000  (2020, 5, 13, 10, 41, 37, 2, 134, 0)   \n",
       "4  Tue, 12 May 2020 11:22:23 +0000  (2020, 5, 12, 11, 22, 23, 1, 133, 0)   \n",
       "\n",
       "                                             authors  \\\n",
       "0                       [{'name': 'Nat Torkington'}]   \n",
       "1  [{'name': 'Justin Norman, Peter Skomoroch and ...   \n",
       "2                       [{'name': 'Nat Torkington'}]   \n",
       "3                       [{'name': 'Nat Torkington'}]   \n",
       "4                       [{'name': 'Nat Torkington'}]   \n",
       "\n",
       "                                             author  \\\n",
       "0                                    Nat Torkington   \n",
       "1  Justin Norman, Peter Skomoroch and Mike Loukides   \n",
       "2                                    Nat Torkington   \n",
       "3                                    Nat Torkington   \n",
       "4                                    Nat Torkington   \n",
       "\n",
       "                                       author_detail  \\\n",
       "0                         {'name': 'Nat Torkington'}   \n",
       "1  {'name': 'Justin Norman, Peter Skomoroch and M...   \n",
       "2                         {'name': 'Nat Torkington'}   \n",
       "3                         {'name': 'Nat Torkington'}   \n",
       "4                         {'name': 'Nat Torkington'}   \n",
       "\n",
       "                                                tags  \\\n",
       "0  [{'term': 'Four Short Links', 'scheme': None, ...   \n",
       "1  [{'term': 'AI & ML', 'scheme': None, 'label': ...   \n",
       "2  [{'term': 'Four Short Links', 'scheme': None, ...   \n",
       "3  [{'term': 'Four Short Links', 'scheme': None, ...   \n",
       "4  [{'term': 'Four Short Links', 'scheme': None, ...   \n",
       "\n",
       "                                       id  guidislink  \\\n",
       "0  https://www.oreilly.com/radar/?p=12789       False   \n",
       "1  https://www.oreilly.com/radar/?p=12786       False   \n",
       "2  https://www.oreilly.com/radar/?p=12783       False   \n",
       "3  https://www.oreilly.com/radar/?p=12779       False   \n",
       "4  https://www.oreilly.com/radar/?p=12776       False   \n",
       "\n",
       "                                             summary  \\\n",
       "0  Favourite Developer-Efficiency Tips &#8212; Be...   \n",
       "1  In our previous article, What You Need to Know...   \n",
       "2  Malware Toolkit Targetting Airgapped Networks ...   \n",
       "3  The Confessions of Marcus Hutchins, the Hacker...   \n",
       "4  flecs &#8212; a Fast and Lightweight ECS (Enti...   \n",
       "\n",
       "                                      summary_detail  \\\n",
       "0  {'type': 'text/html', 'language': None, 'base'...   \n",
       "1  {'type': 'text/html', 'language': None, 'base'...   \n",
       "2  {'type': 'text/html', 'language': None, 'base'...   \n",
       "3  {'type': 'text/html', 'language': None, 'base'...   \n",
       "4  {'type': 'text/html', 'language': None, 'base'...   \n",
       "\n",
       "                                             content  \\\n",
       "0  [{'type': 'text/html', 'language': None, 'base...   \n",
       "1  [{'type': 'text/html', 'language': None, 'base...   \n",
       "2  [{'type': 'text/html', 'language': None, 'base...   \n",
       "3  [{'type': 'text/html', 'language': None, 'base...   \n",
       "4  [{'type': 'text/html', 'language': None, 'base...   \n",
       "\n",
       "                                      wfw_commentrss slash_comments  \\\n",
       "0  https://www.oreilly.com/radar/four-short-links...              0   \n",
       "1  https://www.oreilly.com/radar/practical-skills...              0   \n",
       "2  https://www.oreilly.com/radar/four-short-links...              0   \n",
       "3  https://www.oreilly.com/radar/four-short-links...              0   \n",
       "4  https://www.oreilly.com/radar/four-short-links...              0   \n",
       "\n",
       "                                 feedburner_origlink  \n",
       "0  https://www.oreilly.com/radar/four-short-links...  \n",
       "1  https://www.oreilly.com/radar/practical-skills...  \n",
       "2  https://www.oreilly.com/radar/four-short-links...  \n",
       "3  https://www.oreilly.com/radar/four-short-links...  \n",
       "4  https://www.oreilly.com/radar/four-short-links...  "
      ]
     },
     "execution_count": 91,
     "metadata": {},
     "output_type": "execute_result"
    }
   ],
   "source": [
    "df_feed.head()"
   ]
  },
  {
   "cell_type": "markdown",
   "metadata": {},
   "source": [
    "### 10. Count the number of entries per author and sort them in descending order."
   ]
  },
  {
   "cell_type": "code",
   "execution_count": 121,
   "metadata": {},
   "outputs": [
    {
     "data": {
      "text/html": [
       "<div>\n",
       "<style scoped>\n",
       "    .dataframe tbody tr th:only-of-type {\n",
       "        vertical-align: middle;\n",
       "    }\n",
       "\n",
       "    .dataframe tbody tr th {\n",
       "        vertical-align: top;\n",
       "    }\n",
       "\n",
       "    .dataframe thead th {\n",
       "        text-align: right;\n",
       "    }\n",
       "</style>\n",
       "<table border=\"1\" class=\"dataframe\">\n",
       "  <thead>\n",
       "    <tr style=\"text-align: right;\">\n",
       "      <th></th>\n",
       "      <th>author</th>\n",
       "      <th>title</th>\n",
       "    </tr>\n",
       "  </thead>\n",
       "  <tbody>\n",
       "    <tr>\n",
       "      <th>0</th>\n",
       "      <td>Cynthia Owens</td>\n",
       "      <td>1</td>\n",
       "    </tr>\n",
       "    <tr>\n",
       "      <th>1</th>\n",
       "      <td>Daniel Wu and Mike Loukides</td>\n",
       "      <td>1</td>\n",
       "    </tr>\n",
       "    <tr>\n",
       "      <th>2</th>\n",
       "      <td>Hugo Bowne-Anderson</td>\n",
       "      <td>1</td>\n",
       "    </tr>\n",
       "    <tr>\n",
       "      <th>3</th>\n",
       "      <td>Hugo Bowne-Anderson and Mike Loukides</td>\n",
       "      <td>1</td>\n",
       "    </tr>\n",
       "    <tr>\n",
       "      <th>4</th>\n",
       "      <td>Jenn Webb</td>\n",
       "      <td>4</td>\n",
       "    </tr>\n",
       "    <tr>\n",
       "      <th>5</th>\n",
       "      <td>Justin Norman, Peter Skomoroch and Mike Loukides</td>\n",
       "      <td>1</td>\n",
       "    </tr>\n",
       "    <tr>\n",
       "      <th>6</th>\n",
       "      <td>Mike Loukides</td>\n",
       "      <td>4</td>\n",
       "    </tr>\n",
       "    <tr>\n",
       "      <th>7</th>\n",
       "      <td>Nat Torkington</td>\n",
       "      <td>43</td>\n",
       "    </tr>\n",
       "    <tr>\n",
       "      <th>8</th>\n",
       "      <td>Peter Skomoroch and Mike Loukides</td>\n",
       "      <td>1</td>\n",
       "    </tr>\n",
       "    <tr>\n",
       "      <th>9</th>\n",
       "      <td>Rita J. King</td>\n",
       "      <td>1</td>\n",
       "    </tr>\n",
       "    <tr>\n",
       "      <th>10</th>\n",
       "      <td>Roger Magoulas and Steve Swoyer</td>\n",
       "      <td>2</td>\n",
       "    </tr>\n",
       "  </tbody>\n",
       "</table>\n",
       "</div>"
      ],
      "text/plain": [
       "                                              author  title\n",
       "0                                      Cynthia Owens      1\n",
       "1                        Daniel Wu and Mike Loukides      1\n",
       "2                                Hugo Bowne-Anderson      1\n",
       "3              Hugo Bowne-Anderson and Mike Loukides      1\n",
       "4                                          Jenn Webb      4\n",
       "5   Justin Norman, Peter Skomoroch and Mike Loukides      1\n",
       "6                                      Mike Loukides      4\n",
       "7                                     Nat Torkington     43\n",
       "8                  Peter Skomoroch and Mike Loukides      1\n",
       "9                                       Rita J. King      1\n",
       "10                   Roger Magoulas and Steve Swoyer      2"
      ]
     },
     "execution_count": 121,
     "metadata": {},
     "output_type": "execute_result"
    }
   ],
   "source": [
    "df_feed.groupby(\"author\",as_index=False).agg({\"title\":\"count\"})"
   ]
  },
  {
   "cell_type": "markdown",
   "metadata": {},
   "source": [
    "### 11. Add a new column to the data frame that contains the length (number of characters) of each entry title. Return a data frame that contains the title, author, and title length of each entry in descending order (longest title length at the top)."
   ]
  },
  {
   "cell_type": "code",
   "execution_count": 132,
   "metadata": {},
   "outputs": [
    {
     "data": {
      "text/html": [
       "<div>\n",
       "<style scoped>\n",
       "    .dataframe tbody tr th:only-of-type {\n",
       "        vertical-align: middle;\n",
       "    }\n",
       "\n",
       "    .dataframe tbody tr th {\n",
       "        vertical-align: top;\n",
       "    }\n",
       "\n",
       "    .dataframe thead th {\n",
       "        text-align: right;\n",
       "    }\n",
       "</style>\n",
       "<table border=\"1\" class=\"dataframe\">\n",
       "  <thead>\n",
       "    <tr style=\"text-align: right;\">\n",
       "      <th></th>\n",
       "      <th>title</th>\n",
       "      <th>author</th>\n",
       "      <th>title lenght</th>\n",
       "    </tr>\n",
       "  </thead>\n",
       "  <tbody>\n",
       "    <tr>\n",
       "      <th>47</th>\n",
       "      <td>Great leaders inspire innovation and creativit...</td>\n",
       "      <td>Jenn Webb</td>\n",
       "      <td>76</td>\n",
       "    </tr>\n",
       "    <tr>\n",
       "      <th>21</th>\n",
       "      <td>How data privacy leader Apple found itself in ...</td>\n",
       "      <td>Daniel Wu and Mike Loukides</td>\n",
       "      <td>71</td>\n",
       "    </tr>\n",
       "    <tr>\n",
       "      <th>48</th>\n",
       "      <td>Strong leaders forge an intersection of knowle...</td>\n",
       "      <td>Jenn Webb</td>\n",
       "      <td>64</td>\n",
       "    </tr>\n",
       "    <tr>\n",
       "      <th>54</th>\n",
       "      <td>It’s an unprecedented crisis: 8 things to do r...</td>\n",
       "      <td>Cynthia Owens</td>\n",
       "      <td>54</td>\n",
       "    </tr>\n",
       "    <tr>\n",
       "      <th>41</th>\n",
       "      <td>What you need to know about product management...</td>\n",
       "      <td>Peter Skomoroch and Mike Loukides</td>\n",
       "      <td>53</td>\n",
       "    </tr>\n",
       "  </tbody>\n",
       "</table>\n",
       "</div>"
      ],
      "text/plain": [
       "                                                title  \\\n",
       "47  Great leaders inspire innovation and creativit...   \n",
       "21  How data privacy leader Apple found itself in ...   \n",
       "48  Strong leaders forge an intersection of knowle...   \n",
       "54  It’s an unprecedented crisis: 8 things to do r...   \n",
       "41  What you need to know about product management...   \n",
       "\n",
       "                               author  title lenght  \n",
       "47                          Jenn Webb            76  \n",
       "21        Daniel Wu and Mike Loukides            71  \n",
       "48                          Jenn Webb            64  \n",
       "54                      Cynthia Owens            54  \n",
       "41  Peter Skomoroch and Mike Loukides            53  "
      ]
     },
     "execution_count": 132,
     "metadata": {},
     "output_type": "execute_result"
    }
   ],
   "source": [
    "df_feed[\"title lenght\"]=df_feed[\"title\"].apply(len)\n",
    "df_feed1=df_feed[[\"title\",\"author\",\"title lenght\"]]\n",
    "df_feed1.sort_values(\"title lenght\", ascending=False).head()"
   ]
  },
  {
   "cell_type": "markdown",
   "metadata": {},
   "source": [
    "### 12. Create a list of entry titles whose summary includes the phrase \"machine learning.\""
   ]
  },
  {
   "cell_type": "code",
   "execution_count": 149,
   "metadata": {},
   "outputs": [
    {
     "data": {
      "text/plain": [
       "1           Practical Skills for The AI Product Manager\n",
       "5                            When models are everywhere\n",
       "7                          Four short links: 8 May 2020\n",
       "41    What you need to know about product management...\n",
       "Name: title, dtype: object"
      ]
     },
     "execution_count": 149,
     "metadata": {},
     "output_type": "execute_result"
    }
   ],
   "source": [
    "df_feed[\"title\"][df_feed[\"summary\"].str.contains(\"machine learning\",regex=False)]"
   ]
  },
  {
   "cell_type": "code",
   "execution_count": null,
   "metadata": {},
   "outputs": [],
   "source": []
  }
 ],
 "metadata": {
  "kernelspec": {
   "display_name": "Python 3",
   "language": "python",
   "name": "python3"
  },
  "language_info": {
   "codemirror_mode": {
    "name": "ipython",
    "version": 3
   },
   "file_extension": ".py",
   "mimetype": "text/x-python",
   "name": "python",
   "nbconvert_exporter": "python",
   "pygments_lexer": "ipython3",
   "version": "3.6.2"
  }
 },
 "nbformat": 4,
 "nbformat_minor": 4
}
